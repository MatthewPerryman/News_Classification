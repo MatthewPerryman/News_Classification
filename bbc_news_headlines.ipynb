{
 "cells": [
  {
   "cell_type": "code",
   "execution_count": 1,
   "id": "89b89680",
   "metadata": {},
   "outputs": [
    {
     "name": "stderr",
     "output_type": "stream",
     "text": [
      "C:\\Users\\matth\\AppData\\Local\\Packages\\PythonSoftwareFoundation.Python.3.13_qbz5n2kfra8p0\\LocalCache\\local-packages\\Python313\\site-packages\\tqdm\\auto.py:21: TqdmWarning: IProgress not found. Please update jupyter and ipywidgets. See https://ipywidgets.readthedocs.io/en/stable/user_install.html\n",
      "  from .autonotebook import tqdm as notebook_tqdm\n"
     ]
    }
   ],
   "source": [
    "import kagglehub\n",
    "import matplotlib.pyplot as plt\n",
    "import pandas as pd"
   ]
  },
  {
   "cell_type": "code",
   "execution_count": 2,
   "id": "5c70459b",
   "metadata": {},
   "outputs": [
    {
     "name": "stdout",
     "output_type": "stream",
     "text": [
      "Path to dataset files: C:\\Users\\matth\\.cache\\kagglehub\\datasets\\jacopoferretti\\bbc-articles-dataset\\versions\\12\n"
     ]
    }
   ],
   "source": [
    "# Download latest version\n",
    "path = kagglehub.dataset_download(\"jacopoferretti/bbc-articles-dataset\")\n",
    "\n",
    "print(\"Path to dataset files:\", path)"
   ]
  },
  {
   "cell_type": "code",
   "execution_count": 3,
   "id": "b7ab6393",
   "metadata": {},
   "outputs": [
    {
     "data": {
      "text/plain": [
       "array(['business', 'entertainment', 'politics', 'sport', 'tech'],\n",
       "      dtype=object)"
      ]
     },
     "execution_count": 3,
     "metadata": {},
     "output_type": "execute_result"
    }
   ],
   "source": [
    "df = pd.read_csv('bbc_data/archive/bbc_text_cls.csv')\n",
    "df.labels.unique()"
   ]
  },
  {
   "cell_type": "code",
   "execution_count": 4,
   "id": "d6e1c097",
   "metadata": {},
   "outputs": [
    {
     "name": "stdout",
     "output_type": "stream",
     "text": [
      "contains duplicates: 98\n"
     ]
    }
   ],
   "source": [
    "df[(df.duplicated())&(df['labels']=='sports')].duplicated().sum()\n",
    "dedup = df.drop_duplicates()\n",
    "print(\"contains duplicates:\", len(df.duplicated().values.nonzero()[0]))\n",
    "# I don't know why it would contain duplicates, but they are not going to help classification so we drop them\n",
    "df = dedup"
   ]
  },
  {
   "cell_type": "markdown",
   "id": "b12afd46",
   "metadata": {},
   "source": [
    "Create stratified train and test splits, we will investigate the training data."
   ]
  },
  {
   "cell_type": "code",
   "execution_count": 5,
   "id": "e26ac98d",
   "metadata": {},
   "outputs": [],
   "source": [
    "from sklearn.model_selection import train_test_split"
   ]
  },
  {
   "cell_type": "code",
   "execution_count": 6,
   "id": "6254beda",
   "metadata": {},
   "outputs": [],
   "source": [
    "train_df, test_df = train_test_split(df, test_size=0.2, random_state=42, stratify=df['labels'])\n",
    "df = train_df"
   ]
  },
  {
   "cell_type": "code",
   "execution_count": 7,
   "id": "43fa5465",
   "metadata": {},
   "outputs": [
    {
     "name": "stdout",
     "output_type": "stream",
     "text": [
      "Hatfield executives go on trial\n",
      "\n",
      "Engineering firm Balfour Beatty and five railway managers are to go on trial for manslaughter over the Hatfield rail crash in 2000.\n",
      "\n",
      "Four people died when a section of rail broke and a high speed train derailed. Balfour Beatty's railway maintenance arm was in charge of the upkeep of the line at Hatfield, Hertfordshire. Balfour Beatty managers Anthony Walker and Nicholas Jeffries, and Railtrack managers Alistair Cook, Sean Fugill and Keith Lea all face individual charges. All five men, along with four others, are also accused of breaches of health and safety laws. Balfour Beatty Rail Maintenance faces a corporate manslaughter charge. It is expected the trial could last as long as a year. The accident, on 17 October 2000, happened when the London to Leeds express came off the tracks at 115 mph, when it was derailed by a cracked section of rail. The accident on the East Coast Main Line sparked major disruption. The overall responsibility for the line was Railtrack's - the company that has now become Network Rail. Those who died in the accident were Steve Arthur, 46, from Pease Pottage, West Sussex; Peter Monkhouse, 50, of Headingley, Leeds; Leslie Gray, 43, of Tuxford, Nottingham; and Robert James Alcorn, 37, of Auckland, New Zealand.\n"
     ]
    },
    {
     "data": {
      "text/html": [
       "<div>\n",
       "<style scoped>\n",
       "    .dataframe tbody tr th:only-of-type {\n",
       "        vertical-align: middle;\n",
       "    }\n",
       "\n",
       "    .dataframe tbody tr th {\n",
       "        vertical-align: top;\n",
       "    }\n",
       "\n",
       "    .dataframe thead th {\n",
       "        text-align: right;\n",
       "    }\n",
       "</style>\n",
       "<table border=\"1\" class=\"dataframe\">\n",
       "  <thead>\n",
       "    <tr style=\"text-align: right;\">\n",
       "      <th></th>\n",
       "      <th>text</th>\n",
       "      <th>labels</th>\n",
       "    </tr>\n",
       "  </thead>\n",
       "  <tbody>\n",
       "    <tr>\n",
       "      <th>1073</th>\n",
       "      <td>Hatfield executives go on trial. Engineering f...</td>\n",
       "      <td>politics</td>\n",
       "    </tr>\n",
       "    <tr>\n",
       "      <th>1214</th>\n",
       "      <td>MPs tout Lords replacement plan. A group of MP...</td>\n",
       "      <td>politics</td>\n",
       "    </tr>\n",
       "    <tr>\n",
       "      <th>141</th>\n",
       "      <td>Asian banks halt dollar's slide. The dollar re...</td>\n",
       "      <td>business</td>\n",
       "    </tr>\n",
       "    <tr>\n",
       "      <th>1192</th>\n",
       "      <td>Mandelson warns BBC on Campbell. The BBC shoul...</td>\n",
       "      <td>politics</td>\n",
       "    </tr>\n",
       "    <tr>\n",
       "      <th>1599</th>\n",
       "      <td>Laporte tinkers with team. France coach Bernar...</td>\n",
       "      <td>sport</td>\n",
       "    </tr>\n",
       "    <tr>\n",
       "      <th>...</th>\n",
       "      <td>...</td>\n",
       "      <td>...</td>\n",
       "    </tr>\n",
       "    <tr>\n",
       "      <th>511</th>\n",
       "      <td>Jarre joins fairytale celebration. French musi...</td>\n",
       "      <td>entertainment</td>\n",
       "    </tr>\n",
       "    <tr>\n",
       "      <th>1892</th>\n",
       "      <td>'Friends fear' with lost mobiles. People are b...</td>\n",
       "      <td>tech</td>\n",
       "    </tr>\n",
       "    <tr>\n",
       "      <th>1284</th>\n",
       "      <td>EU rules 'won't stop UK spending'. The shape o...</td>\n",
       "      <td>politics</td>\n",
       "    </tr>\n",
       "    <tr>\n",
       "      <th>85</th>\n",
       "      <td>Manufacturing recovery 'slowing'. UK manufactu...</td>\n",
       "      <td>business</td>\n",
       "    </tr>\n",
       "    <tr>\n",
       "      <th>324</th>\n",
       "      <td>Indy buys into India paper. Irish publishing g...</td>\n",
       "      <td>business</td>\n",
       "    </tr>\n",
       "  </tbody>\n",
       "</table>\n",
       "<p>1701 rows × 2 columns</p>\n",
       "</div>"
      ],
      "text/plain": [
       "                                                   text         labels\n",
       "1073  Hatfield executives go on trial. Engineering f...       politics\n",
       "1214  MPs tout Lords replacement plan. A group of MP...       politics\n",
       "141   Asian banks halt dollar's slide. The dollar re...       business\n",
       "1192  Mandelson warns BBC on Campbell. The BBC shoul...       politics\n",
       "1599  Laporte tinkers with team. France coach Bernar...          sport\n",
       "...                                                 ...            ...\n",
       "511   Jarre joins fairytale celebration. French musi...  entertainment\n",
       "1892  'Friends fear' with lost mobiles. People are b...           tech\n",
       "1284  EU rules 'won't stop UK spending'. The shape o...       politics\n",
       "85    Manufacturing recovery 'slowing'. UK manufactu...       business\n",
       "324   Indy buys into India paper. Irish publishing g...       business\n",
       "\n",
       "[1701 rows x 2 columns]"
      ]
     },
     "execution_count": 7,
     "metadata": {},
     "output_type": "execute_result"
    }
   ],
   "source": [
    "print(df.iloc[0]['text'])\n",
    "# Contains new lines, lets remove them\n",
    "df_clumped = df.apply(lambda x: x.str.replace('\\n\\n', '. '))\n",
    "df_clumped"
   ]
  },
  {
   "cell_type": "code",
   "execution_count": 8,
   "id": "a07aed58",
   "metadata": {},
   "outputs": [
    {
     "data": {
      "text/plain": [
       "labels\n",
       "sport            404\n",
       "business         402\n",
       "politics         322\n",
       "entertainment    295\n",
       "tech             278\n",
       "Name: count, dtype: int64"
      ]
     },
     "execution_count": 8,
     "metadata": {},
     "output_type": "execute_result"
    }
   ],
   "source": [
    "# Check the distribution of labels\n",
    "df_clumped['labels'].value_counts()"
   ]
  },
  {
   "cell_type": "markdown",
   "id": "18d55705",
   "metadata": {},
   "source": [
    "Seems like the data is quite balanced, I want to check average text length"
   ]
  },
  {
   "cell_type": "code",
   "execution_count": 9,
   "id": "7db81e26",
   "metadata": {},
   "outputs": [],
   "source": [
    "df_clumped['text_len'] = df_clumped['text'].apply(lambda x: len(x))"
   ]
  },
  {
   "cell_type": "code",
   "execution_count": 10,
   "id": "54122813",
   "metadata": {},
   "outputs": [
    {
     "name": "stdout",
     "output_type": "stream",
     "text": [
      "max:  25484\n",
      "min:  502\n"
     ]
    },
    {
     "data": {
      "text/plain": [
       "np.int64(3122)"
      ]
     },
     "execution_count": 10,
     "metadata": {},
     "output_type": "execute_result"
    }
   ],
   "source": [
    "counts = df_clumped['text_len'].value_counts()\n",
    "max = df_clumped['text_len'].max()\n",
    "min = df_clumped['text_len'].min()\n",
    "print(\"max: \", max)\n",
    "print(\"min: \", min)\n",
    "\n",
    "(max-min) // 8"
   ]
  },
  {
   "cell_type": "code",
   "execution_count": 11,
   "id": "5326ab5c",
   "metadata": {},
   "outputs": [
    {
     "data": {
      "text/plain": [
       "28098"
      ]
     },
     "execution_count": 11,
     "metadata": {},
     "output_type": "execute_result"
    }
   ],
   "source": [
    "jump_size = 3122\n",
    "jump_size*9"
   ]
  },
  {
   "cell_type": "code",
   "execution_count": 12,
   "id": "8b0dd745",
   "metadata": {},
   "outputs": [],
   "source": [
    "\n",
    "bins = [0, jump_size, jump_size*2, jump_size*3, jump_size*4, jump_size*5, jump_size*6, jump_size*7]  # Define bucket edges\n",
    "labels = [f'0-{jump_size}',\n",
    "          f'{jump_size}-{jump_size*2}',\n",
    "          f'{jump_size*2}-{jump_size*3}',\n",
    "          f'{jump_size*3}-{jump_size*4}',\n",
    "          f'{jump_size*4}-{jump_size*5}',\n",
    "          f'{jump_size*5}-{jump_size*6}',\n",
    "          f'{jump_size*6}-{jump_size*7}']  # Define bucket labels\n",
    "binned_counts = pd.cut(df_clumped['text_len'], bins=bins, labels=labels, right=False)\n"
   ]
  },
  {
   "cell_type": "code",
   "execution_count": 13,
   "id": "96b59988",
   "metadata": {},
   "outputs": [
    {
     "data": {
      "text/plain": [
       "text_len\n",
       "0-3122         1405\n",
       "3122-6244       286\n",
       "6244-9366         5\n",
       "9366-12488        1\n",
       "12488-15610       1\n",
       "15610-18732       1\n",
       "18732-21854       1\n",
       "Name: count, dtype: int64"
      ]
     },
     "execution_count": 13,
     "metadata": {},
     "output_type": "execute_result"
    }
   ],
   "source": [
    "binned_counts_grouped = binned_counts.value_counts()\n",
    "binned_counts_grouped"
   ]
  },
  {
   "cell_type": "code",
   "execution_count": 14,
   "id": "27f00bdf",
   "metadata": {},
   "outputs": [
    {
     "data": {
      "image/png": "[encoded data removed]",
      "text/plain": [
       "<Figure size 2000x1000 with 1 Axes>"
      ]
     },
     "metadata": {},
     "output_type": "display_data"
    }
   ],
   "source": [
    "binned_counts_grouped.plot(kind='bar', figsize=(20, 10), title='Text lengths')\n",
    "plt.xlabel('Array length')\n",
    "plt.ylabel('Count')\n",
    "plt.show()"
   ]
  },
  {
   "cell_type": "markdown",
   "id": "0bab69a0",
   "metadata": {},
   "source": [
    "Word count is scewed with a handful or big outliers, this might scew things"
   ]
  },
  {
   "cell_type": "markdown",
   "id": "d4fff354",
   "metadata": {},
   "source": [
    "Lets apply stopword and alphanumeric removal first then try stemming and lemmatisation to reduce the noise in the dataset.\n",
    "Stemming and lemmmatisation should compress the data differently, with lemmatisation being more aggressive.\n",
    "Even the smallest text is quite long so we should be able to apply these functions without losing all meaning of the text.\n",
    "I will create each, then vectorise and split into train and val before training a neural network."
   ]
  },
  {
   "cell_type": "code",
   "execution_count": 15,
   "id": "77b480f3",
   "metadata": {},
   "outputs": [
    {
     "name": "stderr",
     "output_type": "stream",
     "text": [
      "[nltk_data] Downloading package stopwords to\n",
      "[nltk_data]     C:\\Users\\matth\\AppData\\Roaming\\nltk_data...\n",
      "[nltk_data]   Package stopwords is already up-to-date!\n",
      "[nltk_data] Downloading package punkt to\n",
      "[nltk_data]     C:\\Users\\matth\\AppData\\Roaming\\nltk_data...\n",
      "[nltk_data]   Package punkt is already up-to-date!\n",
      "[nltk_data] Downloading package punkt_tab to\n",
      "[nltk_data]     C:\\Users\\matth\\AppData\\Roaming\\nltk_data...\n",
      "[nltk_data]   Package punkt_tab is already up-to-date!\n",
      "[nltk_data] Downloading package averaged_perceptron_tagger_eng to\n",
      "[nltk_data]     C:\\Users\\matth\\AppData\\Roaming\\nltk_data...\n",
      "[nltk_data]   Package averaged_perceptron_tagger_eng is already up-to-\n",
      "[nltk_data]       date!\n"
     ]
    }
   ],
   "source": [
    "import nltk\n",
    "from nltk.corpus import stopwords\n",
    "nltk.download('stopwords')\n",
    "nltk.download('punkt')\n",
    "nltk.download('punkt_tab')\n",
    "stop_words = set(stopwords.words('english'))\n",
    "\n",
    "from nltk.stem import PorterStemmer\n",
    "stemmer = PorterStemmer()\n",
    "\n",
    "from nltk.stem import WordNetLemmatizer\n",
    "from nltk import pos_tag\n",
    "nltk.download('averaged_perceptron_tagger_eng')\n",
    "#nltk.download('wordnet')\n",
    "lemmer = WordNetLemmatizer()"
   ]
  },
  {
   "cell_type": "code",
   "execution_count": 16,
   "id": "9d532b12",
   "metadata": {},
   "outputs": [
    {
     "data": {
      "text/plain": [
       "'Ad sales boost Time Warner profit\\n\\nQuarterly profits at US media giant TimeWarner jumped 76% to $1.13bn (£600m) for the three months to December, from $639m year-earlier.\\n\\nThe firm, which is now one of the biggest investors in Google, benefited from sales of high-speed internet connections and higher advert sales. TimeWarner said fourth quarter sales rose 2% to $11.1bn from $10.9bn. Its profits were buoyed by one-off gains which offset a profit dip at Warner Bros, and less users for AOL.\\n\\nTime Warner said on Friday that it now owns 8% of search-engine Google. But its own internet business, AOL, had has mixed fortunes. It lost 464,000 subscribers in the fourth quarter profits were lower than in the preceding three quarters. However, the company said AOL\\'s underlying profit before exceptional items rose 8% on the back of stronger internet advertising revenues. It hopes to increase subscribers by offering the online service free to TimeWarner internet customers and will try to sign up AOL\\'s existing customers for high-speed broadband. TimeWarner also has to restate 2000 and 2003 results following a probe by the US Securities Exchange Commission (SEC), which is close to concluding.\\n\\nTime Warner\\'s fourth quarter profits were slightly better than analysts\\' expectations. But its film division saw profits slump 27% to $284m, helped by box-office flops Alexander and Catwoman, a sharp contrast to year-earlier, when the third and final film in the Lord of the Rings trilogy boosted results. For the full-year, TimeWarner posted a profit of $3.36bn, up 27% from its 2003 performance, while revenues grew 6.4% to $42.09bn. \"Our financial performance was strong, meeting or exceeding all of our full-year objectives and greatly enhancing our flexibility,\" chairman and chief executive Richard Parsons said. For 2005, TimeWarner is projecting operating earnings growth of around 5%, and also expects higher revenue and wider profit margins.\\n\\nTimeWarner is to restate its accounts as part of efforts to resolve an inquiry into AOL by US market regulators. It has already offered to pay $300m to settle charges, in a deal that is under review by the SEC. The company said it was unable to estimate the amount it needed to set aside for legal reserves, which it previously set at $500m. It intends to adjust the way it accounts for a deal with German music publisher Bertelsmann\\'s purchase of a stake in AOL Europe, which it had reported as advertising revenue. It will now book the sale of its stake in AOL Europe as a loss on the value of that stake.'"
      ]
     },
     "execution_count": 16,
     "metadata": {},
     "output_type": "execute_result"
    }
   ],
   "source": [
    "df.loc[0]['text']"
   ]
  },
  {
   "cell_type": "code",
   "execution_count": 17,
   "id": "6ec1701f",
   "metadata": {},
   "outputs": [],
   "source": [
    "tokenised = nltk.word_tokenize(df.loc[0]['text'])"
   ]
  },
  {
   "cell_type": "code",
   "execution_count": 18,
   "id": "e12a69f8",
   "metadata": {},
   "outputs": [
    {
     "name": "stdout",
     "output_type": "stream",
     "text": [
      "isalnum:  ['Ad', 'sales', 'boost', 'Time', 'Warner', 'profit', 'Quarterly', 'profits', 'at', 'US', 'media', 'giant', 'TimeWarner', 'jumped', '76', 'to', 'for', 'the', 'three', 'months', 'to', 'December', 'from', '639m', 'The', 'firm', 'which', 'is', 'now', 'one', 'of', 'the', 'biggest', 'investors', 'in', 'Google', 'benefited', 'from', 'sales', 'of', 'internet', 'connections', 'and', 'higher', 'advert', 'sales', 'TimeWarner', 'said', 'fourth', 'quarter', 'sales', 'rose', '2', 'to', 'from', 'Its', 'profits', 'were', 'buoyed', 'by', 'gains', 'which', 'offset', 'a', 'profit', 'dip', 'at', 'Warner', 'Bros', 'and', 'less', 'users', 'for', 'AOL', 'Time', 'Warner', 'said', 'on', 'Friday', 'that', 'it', 'now', 'owns', '8', 'of', 'Google', 'But', 'its', 'own', 'internet', 'business', 'AOL', 'had', 'has', 'mixed', 'fortunes', 'It', 'lost', 'subscribers', 'in', 'the', 'fourth', 'quarter', 'profits', 'were', 'lower', 'than', 'in', 'the', 'preceding', 'three', 'quarters', 'However', 'the', 'company', 'said', 'AOL', 'underlying', 'profit', 'before', 'exceptional', 'items', 'rose', '8', 'on', 'the', 'back', 'of', 'stronger', 'internet', 'advertising', 'revenues', 'It', 'hopes', 'to', 'increase', 'subscribers', 'by', 'offering', 'the', 'online', 'service', 'free', 'to', 'TimeWarner', 'internet', 'customers', 'and', 'will', 'try', 'to', 'sign', 'up', 'AOL', 'existing', 'customers', 'for', 'broadband', 'TimeWarner', 'also', 'has', 'to', 'restate', '2000', 'and', '2003', 'results', 'following', 'a', 'probe', 'by', 'the', 'US', 'Securities', 'Exchange', 'Commission', 'SEC', 'which', 'is', 'close', 'to', 'concluding', 'Time', 'Warner', 'fourth', 'quarter', 'profits', 'were', 'slightly', 'better', 'than', 'analysts', 'expectations', 'But', 'its', 'film', 'division', 'saw', 'profits', 'slump', '27', 'to', '284m', 'helped', 'by', 'flops', 'Alexander', 'and', 'Catwoman', 'a', 'sharp', 'contrast', 'to', 'when', 'the', 'third', 'and', 'final', 'film', 'in', 'the', 'Lord', 'of', 'the', 'Rings', 'trilogy', 'boosted', 'results', 'For', 'the', 'TimeWarner', 'posted', 'a', 'profit', 'of', 'up', '27', 'from', 'its', '2003', 'performance', 'while', 'revenues', 'grew', 'to', 'Our', 'financial', 'performance', 'was', 'strong', 'meeting', 'or', 'exceeding', 'all', 'of', 'our', 'objectives', 'and', 'greatly', 'enhancing', 'our', 'flexibility', 'chairman', 'and', 'chief', 'executive', 'Richard', 'Parsons', 'said', 'For', '2005', 'TimeWarner', 'is', 'projecting', 'operating', 'earnings', 'growth', 'of', 'around', '5', 'and', 'also', 'expects', 'higher', 'revenue', 'and', 'wider', 'profit', 'margins', 'TimeWarner', 'is', 'to', 'restate', 'its', 'accounts', 'as', 'part', 'of', 'efforts', 'to', 'resolve', 'an', 'inquiry', 'into', 'AOL', 'by', 'US', 'market', 'regulators', 'It', 'has', 'already', 'offered', 'to', 'pay', '300m', 'to', 'settle', 'charges', 'in', 'a', 'deal', 'that', 'is', 'under', 'review', 'by', 'the', 'SEC', 'The', 'company', 'said', 'it', 'was', 'unable', 'to', 'estimate', 'the', 'amount', 'it', 'needed', 'to', 'set', 'aside', 'for', 'legal', 'reserves', 'which', 'it', 'previously', 'set', 'at', '500m', 'It', 'intends', 'to', 'adjust', 'the', 'way', 'it', 'accounts', 'for', 'a', 'deal', 'with', 'German', 'music', 'publisher', 'Bertelsmann', 'purchase', 'of', 'a', 'stake', 'in', 'AOL', 'Europe', 'which', 'it', 'had', 'reported', 'as', 'advertising', 'revenue', 'It', 'will', 'now', 'book', 'the', 'sale', 'of', 'its', 'stake', 'in', 'AOL', 'Europe', 'as', 'a', 'loss', 'on', 'the', 'value', 'of', 'that', 'stake']\n",
      "stopword removed:  ['Ad', 'sales', 'boost', 'Time', 'Warner', 'profit', 'Quarterly', 'profits', 'US', 'media', 'giant', 'TimeWarner', 'jumped', '76', '%', '$', '1.13bn', '(', '£600m', ')', 'three', 'months', 'December', ',', '$', '639m', 'year-earlier', '.', 'firm', ',', 'one', 'biggest', 'investors', 'Google', ',', 'benefited', 'sales', 'high-speed', 'internet', 'connections', 'higher', 'advert', 'sales', '.', 'TimeWarner', 'said', 'fourth', 'quarter', 'sales', 'rose', '2', '%', '$', '11.1bn', '$', '10.9bn', '.', 'profits', 'buoyed', 'one-off', 'gains', 'offset', 'profit', 'dip', 'Warner', 'Bros', ',', 'less', 'users', 'AOL', '.', 'Time', 'Warner', 'said', 'Friday', 'owns', '8', '%', 'search-engine', 'Google', '.', 'internet', 'business', ',', 'AOL', ',', 'mixed', 'fortunes', '.', 'lost', '464,000', 'subscribers', 'fourth', 'quarter', 'profits', 'lower', 'preceding', 'three', 'quarters', '.', 'However', ',', 'company', 'said', 'AOL', \"'s\", 'underlying', 'profit', 'exceptional', 'items', 'rose', '8', '%', 'back', 'stronger', 'internet', 'advertising', 'revenues', '.', 'hopes', 'increase', 'subscribers', 'offering', 'online', 'service', 'free', 'TimeWarner', 'internet', 'customers', 'try', 'sign', 'AOL', \"'s\", 'existing', 'customers', 'high-speed', 'broadband', '.', 'TimeWarner', 'also', 'restate', '2000', '2003', 'results', 'following', 'probe', 'US', 'Securities', 'Exchange', 'Commission', '(', 'SEC', ')', ',', 'close', 'concluding', '.', 'Time', 'Warner', \"'s\", 'fourth', 'quarter', 'profits', 'slightly', 'better', 'analysts', \"'\", 'expectations', '.', 'film', 'division', 'saw', 'profits', 'slump', '27', '%', '$', '284m', ',', 'helped', 'box-office', 'flops', 'Alexander', 'Catwoman', ',', 'sharp', 'contrast', 'year-earlier', ',', 'third', 'final', 'film', 'Lord', 'Rings', 'trilogy', 'boosted', 'results', '.', 'full-year', ',', 'TimeWarner', 'posted', 'profit', '$', '3.36bn', ',', '27', '%', '2003', 'performance', ',', 'revenues', 'grew', '6.4', '%', '$', '42.09bn', '.', '``', 'financial', 'performance', 'strong', ',', 'meeting', 'exceeding', 'full-year', 'objectives', 'greatly', 'enhancing', 'flexibility', ',', \"''\", 'chairman', 'chief', 'executive', 'Richard', 'Parsons', 'said', '.', '2005', ',', 'TimeWarner', 'projecting', 'operating', 'earnings', 'growth', 'around', '5', '%', ',', 'also', 'expects', 'higher', 'revenue', 'wider', 'profit', 'margins', '.', 'TimeWarner', 'restate', 'accounts', 'part', 'efforts', 'resolve', 'inquiry', 'AOL', 'US', 'market', 'regulators', '.', 'already', 'offered', 'pay', '$', '300m', 'settle', 'charges', ',', 'deal', 'review', 'SEC', '.', 'company', 'said', 'unable', 'estimate', 'amount', 'needed', 'set', 'aside', 'legal', 'reserves', ',', 'previously', 'set', '$', '500m', '.', 'intends', 'adjust', 'way', 'accounts', 'deal', 'German', 'music', 'publisher', 'Bertelsmann', \"'s\", 'purchase', 'stake', 'AOL', 'Europe', ',', 'reported', 'advertising', 'revenue', '.', 'book', 'sale', 'stake', 'AOL', 'Europe', 'loss', 'value', 'stake', '.']\n"
     ]
    }
   ],
   "source": [
    "print(f\"isalnum: \", [token for token in tokenised if token.isalnum()])\n",
    "print(f\"stopword removed: \", [token for token in tokenised if token.lower() not in stop_words])"
   ]
  },
  {
   "cell_type": "code",
   "execution_count": 19,
   "id": "fc525edf",
   "metadata": {},
   "outputs": [
    {
     "data": {
      "text/plain": [
       "1073    [Hatfield, executives, go, trial, Engineering,...\n",
       "1214    [MPs, tout, Lords, replacement, plan, group, M...\n",
       "141     [Asian, banks, halt, dollar, slide, dollar, re...\n",
       "1192    [Mandelson, warns, BBC, Campbell, BBC, steer, ...\n",
       "1599    [Laporte, tinkers, team, France, coach, Bernar...\n",
       "                              ...                        \n",
       "511     [Jarre, joins, fairytale, celebration, French,...\n",
       "1892    [fear, lost, mobiles, People, becoming, depend...\n",
       "1284    [EU, rules, stop, UK, spending, shape, UK, eco...\n",
       "85      [Manufacturing, recovery, UK, manufacturing, g...\n",
       "324     [Indy, buys, India, paper, Irish, publishing, ...\n",
       "Name: cleaned_text, Length: 1701, dtype: object"
      ]
     },
     "execution_count": 19,
     "metadata": {},
     "output_type": "execute_result"
    }
   ],
   "source": [
    "# Remove stopwords and non alphanumeric tokens\n",
    "def make_concise(text):\n",
    "    tokenised = nltk.word_tokenize(text)\n",
    "    concise_text = [token for token in tokenised if token.isalnum() and token.lower() not in stop_words]\n",
    "    return concise_text\n",
    "\n",
    "df['cleaned_text'] = df['text'].apply(lambda x: make_concise(x))\n",
    "df['cleaned_text']"
   ]
  },
  {
   "cell_type": "code",
   "execution_count": 20,
   "id": "236c3be8",
   "metadata": {},
   "outputs": [
    {
     "name": "stdout",
     "output_type": "stream",
     "text": [
      "min length:  47\n"
     ]
    }
   ],
   "source": [
    "# Quickly check we haven't got any text that is crazy short now\n",
    "df['cleaned_text_len'] = df['cleaned_text'].apply(lambda x: len(x))\n",
    "print(f\"min length: \", df['cleaned_text_len'].min())"
   ]
  },
  {
   "cell_type": "markdown",
   "id": "ba5fa202",
   "metadata": {},
   "source": [
    "47 isn't too bad, the dataset is probably quite imbalanced tho. I wonder if this affects the tf-idf encoding.\n",
    "It might mean big documents fit into multiple categories?"
   ]
  },
  {
   "cell_type": "markdown",
   "id": "f4846daf",
   "metadata": {},
   "source": [
    "Create the stemmatised version"
   ]
  },
  {
   "cell_type": "code",
   "execution_count": 21,
   "id": "a3c7f393",
   "metadata": {},
   "outputs": [
    {
     "data": {
      "text/plain": [
       "1073    [hatfield, execut, go, trial, engin, firm, bal...\n",
       "1214    [mp, tout, lord, replac, plan, group, mp, tri,...\n",
       "141     [asian, bank, halt, dollar, slide, dollar, reg...\n",
       "1192    [mandelson, warn, bbc, campbel, bbc, steer, aw...\n",
       "1599    [laport, tinker, team, franc, coach, bernard, ...\n",
       "                              ...                        \n",
       "511     [jarr, join, fairytal, celebr, french, musicia...\n",
       "1892    [fear, lost, mobil, peopl, becom, depend, mobi...\n",
       "1284    [eu, rule, stop, uk, spend, shape, uk, economi...\n",
       "85      [manufactur, recoveri, uk, manufactur, grew, s...\n",
       "324     [indi, buy, india, paper, irish, publish, grou...\n",
       "Name: stemmed, Length: 1701, dtype: object"
      ]
     },
     "execution_count": 21,
     "metadata": {},
     "output_type": "execute_result"
    }
   ],
   "source": [
    "# Take cleaned text and apply stemming and lemmatisation separately\n",
    "def stem(cleaned_text):\n",
    "    # I call words in the cleaned text as tokens because it is a better descriptor at this point\n",
    "    stemmed = [stemmer.stem(token) for token in cleaned_text]\n",
    "    return stemmed\n",
    "\n",
    "df['stemmed'] = df['cleaned_text'].apply(lambda x: stem(x))\n",
    "df['stemmed']"
   ]
  },
  {
   "cell_type": "markdown",
   "id": "43b1c18e",
   "metadata": {},
   "source": [
    "Create the lemmatised version"
   ]
  },
  {
   "cell_type": "code",
   "execution_count": 22,
   "id": "c7d4f804",
   "metadata": {},
   "outputs": [
    {
     "name": "stdout",
     "output_type": "stream",
     "text": [
      "[('Ad', 'NN'), ('sales', 'NNS'), ('boost', 'VBP'), ('Time', 'NNP'), ('Warner', 'NNP'), ('profit', 'VB'), ('Quarterly', 'JJ'), ('profits', 'NNS'), ('US', 'IN'), ('media', 'NNS'), ('giant', 'JJ'), ('TimeWarner', 'NNP'), ('jumped', 'VBD'), ('76', 'CD'), ('three', 'CD'), ('months', 'NNS'), ('December', 'NNP'), ('639m', 'CD'), ('firm', 'NN'), ('one', 'CD'), ('biggest', 'JJS'), ('investors', 'NNS'), ('Google', 'NNP'), ('benefited', 'VBD'), ('sales', 'NNS'), ('internet', 'NN'), ('connections', 'NNS'), ('higher', 'RBR'), ('advert', 'JJ'), ('sales', 'NNS'), ('TimeWarner', 'NNP'), ('said', 'VBD'), ('fourth', 'JJ'), ('quarter', 'NN'), ('sales', 'NNS'), ('rose', 'VBD'), ('2', 'CD'), ('profits', 'NNS'), ('buoyed', 'VBD'), ('gains', 'NNS'), ('offset', 'VB'), ('profit', 'NN'), ('dip', 'NN'), ('Warner', 'NNP'), ('Bros', 'NNP'), ('less', 'JJR'), ('users', 'NNS'), ('AOL', 'NNP'), ('Time', 'NNP'), ('Warner', 'NNP'), ('said', 'VBD'), ('Friday', 'NNP'), ('owns', 'VBZ'), ('8', 'CD'), ('Google', 'NNP'), ('internet', 'NN'), ('business', 'NN'), ('AOL', 'NNP'), ('mixed', 'JJ'), ('fortunes', 'NNS'), ('lost', 'VBN'), ('subscribers', 'NNS'), ('fourth', 'JJ'), ('quarter', 'NN'), ('profits', 'NNS'), ('lower', 'RBR'), ('preceding', 'VBG'), ('three', 'CD'), ('quarters', 'NNS'), ('However', 'RB'), ('company', 'NN'), ('said', 'VBD'), ('AOL', 'NNP'), ('underlying', 'JJ'), ('profit', 'NN'), ('exceptional', 'JJ'), ('items', 'NNS'), ('rose', 'VBD'), ('8', 'CD'), ('back', 'RB'), ('stronger', 'JJR'), ('internet', 'NN'), ('advertising', 'NN'), ('revenues', 'NNS'), ('hopes', 'VBZ'), ('increase', 'NN'), ('subscribers', 'NNS'), ('offering', 'VBG'), ('online', 'JJ'), ('service', 'NN'), ('free', 'JJ'), ('TimeWarner', 'NNP'), ('internet', 'NN'), ('customers', 'NNS'), ('try', 'VBP'), ('sign', 'NN'), ('AOL', 'NNP'), ('existing', 'VBG'), ('customers', 'NNS'), ('broadband', 'VBP'), ('TimeWarner', 'NNP'), ('also', 'RB'), ('restate', 'VBP'), ('2000', 'CD'), ('2003', 'CD'), ('results', 'NNS'), ('following', 'VBG'), ('probe', 'NN'), ('US', 'NNP'), ('Securities', 'NNP'), ('Exchange', 'NNP'), ('Commission', 'NNP'), ('SEC', 'NNP'), ('close', 'VB'), ('concluding', 'VBG'), ('Time', 'NNP'), ('Warner', 'NNP'), ('fourth', 'JJ'), ('quarter', 'NN'), ('profits', 'NNS'), ('slightly', 'RB'), ('better', 'JJR'), ('analysts', 'NNS'), ('expectations', 'NNS'), ('film', 'NN'), ('division', 'NN'), ('saw', 'VBD'), ('profits', 'NNS'), ('slump', 'VBP'), ('27', 'CD'), ('284m', 'CD'), ('helped', 'VBD'), ('flops', 'NNS'), ('Alexander', 'NNP'), ('Catwoman', 'NNP'), ('sharp', 'JJ'), ('contrast', 'NN'), ('third', 'JJ'), ('final', 'JJ'), ('film', 'NN'), ('Lord', 'NNP'), ('Rings', 'NNP'), ('trilogy', 'NN'), ('boosted', 'VBD'), ('results', 'NNS'), ('TimeWarner', 'NNP'), ('posted', 'VBD'), ('profit', 'NN'), ('27', 'CD'), ('2003', 'CD'), ('performance', 'NN'), ('revenues', 'NNS'), ('grew', 'VBD'), ('financial', 'JJ'), ('performance', 'NN'), ('strong', 'JJ'), ('meeting', 'NN'), ('exceeding', 'VBG'), ('objectives', 'NNS'), ('greatly', 'RB'), ('enhancing', 'VBG'), ('flexibility', 'NN'), ('chairman', 'NN'), ('chief', 'JJ'), ('executive', 'NN'), ('Richard', 'NNP'), ('Parsons', 'NNP'), ('said', 'VBD'), ('2005', 'CD'), ('TimeWarner', 'NNP'), ('projecting', 'VBG'), ('operating', 'VBG'), ('earnings', 'NNS'), ('growth', 'NN'), ('around', 'IN'), ('5', 'CD'), ('also', 'RB'), ('expects', 'VBZ'), ('higher', 'JJR'), ('revenue', 'NN'), ('wider', 'JJR'), ('profit', 'NN'), ('margins', 'NNS'), ('TimeWarner', 'NNP'), ('restate', 'NN'), ('accounts', 'NNS'), ('part', 'NN'), ('efforts', 'NNS'), ('resolve', 'VBP'), ('inquiry', 'NN'), ('AOL', 'NNP'), ('US', 'NNP'), ('market', 'NN'), ('regulators', 'NNS'), ('already', 'RB'), ('offered', 'VBN'), ('pay', 'NN'), ('300m', 'CD'), ('settle', 'NN'), ('charges', 'NNS'), ('deal', 'VBP'), ('review', 'VB'), ('SEC', 'NNP'), ('company', 'NN'), ('said', 'VBD'), ('unable', 'JJ'), ('estimate', 'NN'), ('amount', 'NN'), ('needed', 'VBD'), ('set', 'VBN'), ('aside', 'RB'), ('legal', 'JJ'), ('reserves', 'NNS'), ('previously', 'RB'), ('set', 'VBD'), ('500m', 'CD'), ('intends', 'VBZ'), ('adjust', 'JJ'), ('way', 'NN'), ('accounts', 'NNS'), ('deal', 'JJ'), ('German', 'JJ'), ('music', 'NN'), ('publisher', 'NN'), ('Bertelsmann', 'NNP'), ('purchase', 'NN'), ('stake', 'NN'), ('AOL', 'NNP'), ('Europe', 'NNP'), ('reported', 'VBD'), ('advertising', 'NN'), ('revenue', 'NN'), ('book', 'NN'), ('sale', 'NN'), ('stake', 'NN'), ('AOL', 'NNP'), ('Europe', 'NNP'), ('loss', 'NN'), ('value', 'NN'), ('stake', 'NN')]\n"
     ]
    }
   ],
   "source": [
    "print(pos_tag(df['cleaned_text'].loc[0]))"
   ]
  },
  {
   "cell_type": "code",
   "execution_count": 23,
   "id": "7993a3e7",
   "metadata": {},
   "outputs": [
    {
     "data": {
      "text/plain": [
       "1073    [Hatfield, executive, go, trial, Engineering, ...\n",
       "1214    [MPs, tout, Lords, replacement, plan, group, M...\n",
       "141     [Asian, bank, halt, dollar, slide, dollar, reg...\n",
       "1192    [Mandelson, warn, BBC, Campbell, BBC, steer, a...\n",
       "1599    [Laporte, tinker, team, France, coach, Bernard...\n",
       "                              ...                        \n",
       "511     [Jarre, join, fairytale, celebration, French, ...\n",
       "1892    [fear, lose, mobile, People, become, dependent...\n",
       "1284    [EU, rule, stop, UK, spending, shape, UK, econ...\n",
       "85      [Manufacturing, recovery, UK, manufacturing, g...\n",
       "324     [Indy, buy, India, paper, Irish, publishing, g...\n",
       "Name: lemmed, Length: 1701, dtype: object"
      ]
     },
     "execution_count": 23,
     "metadata": {},
     "output_type": "execute_result"
    }
   ],
   "source": [
    "# Take cleaned text and apply stemming and lemmatisation separately\n",
    "def lemm(cleaned_text):\n",
    "    # I call words in the cleaned text as tokens because it is a better descriptor at this point\n",
    "    tagged_tokens = pos_tag(cleaned_text)\n",
    "\n",
    "    lemmed_tokens = []\n",
    "    # Add some extra detail\n",
    "    for word, tag in tagged_tokens:\n",
    "        if tag.startswith('V'):\n",
    "            pos = 'v'\n",
    "        elif tag.startswith('N'):\n",
    "            pos = 'n'\n",
    "        elif tag.startswith('J'):\n",
    "            pos = 'a'\n",
    "        else:\n",
    "            pos = 'n'\n",
    "        lemmed_tokens.append(lemmer.lemmatize(word, pos=pos))\n",
    "    return lemmed_tokens\n",
    "\n",
    "df['lemmed'] = df['cleaned_text'].apply(lambda x: lemm(x))\n",
    "df['lemmed']"
   ]
  },
  {
   "cell_type": "markdown",
   "id": "1332259d",
   "metadata": {},
   "source": [
    "Lets start applying tf-idf to these separate experiments\n",
    "I will call the vectors td_idf_base, tf_idf_stem and tf_idf_lemm, where base is just alphnum and stop word actions"
   ]
  },
  {
   "cell_type": "code",
   "execution_count": 24,
   "id": "66e9ff04",
   "metadata": {},
   "outputs": [],
   "source": [
    "from sklearn.feature_extraction.text import TfidfVectorizer\n",
    "\n",
    "# Apply tfidf vectorising to the cleaned text and call it the base\n",
    "vectoriser = TfidfVectorizer()\n",
    "tf_idf_base = vectoriser.fit_transform(df['cleaned_text'].apply(lambda x: ' '.join(x)))\n",
    "\n",
    "# Convert the tf-idf data to a dataframe\n",
    "tf_idf_base_df = pd.DataFrame({'tfidf': tf_idf_base.toarray().tolist()}, index=df.index)"
   ]
  },
  {
   "cell_type": "code",
   "execution_count": 25,
   "id": "36aa825c",
   "metadata": {},
   "outputs": [],
   "source": [
    "# Apply tfidf vectorising to stemmed text\n",
    "tf_idf_stem = vectoriser.fit_transform(df['stemmed'].apply(lambda x: ' '.join(x)))\n",
    "\n",
    "# Convert the tf-idf data to a dataframe\n",
    "tf_idf_stem_df = pd.DataFrame({'tfidf': tf_idf_stem.toarray().tolist()}, index=df.index)"
   ]
  },
  {
   "cell_type": "code",
   "execution_count": 26,
   "id": "8ac3bc19",
   "metadata": {},
   "outputs": [],
   "source": [
    "# Apply tfidf vectorising to stemmed text\n",
    "tf_idf_stem = vectoriser.fit_transform(df['lemmed'].apply(lambda x: ' '.join(x)))\n",
    "\n",
    "# Convert the tf-idf data to a dataframe\n",
    "tf_idf_stem_df = pd.DataFrame({'tfidf': tf_idf_stem.toarray().tolist()}, index=df.index)"
   ]
  },
  {
   "cell_type": "markdown",
   "id": "0b9bbed4",
   "metadata": {},
   "source": [
    "Create neural network for training"
   ]
  },
  {
   "cell_type": "code",
   "execution_count": 28,
   "id": "8ebbc12e",
   "metadata": {},
   "outputs": [],
   "source": [
    "import numpy as np\n",
    "X = np.array(tf_idf_base_df['tfidf'].tolist())\n",
    "y = df['labels'].astype('category').cat.codes.values"
   ]
  },
  {
   "cell_type": "code",
   "execution_count": 29,
   "id": "51d7878e",
   "metadata": {},
   "outputs": [],
   "source": [
    "# Split into training and validation\n",
    "x_train, x_valid, y_train, y_valid = train_test_split(X, y, test_size=0.2, random_state=42, stratify=y)"
   ]
  },
  {
   "cell_type": "code",
   "execution_count": 30,
   "id": "469ac3f0",
   "metadata": {},
   "outputs": [
    {
     "name": "stdout",
     "output_type": "stream",
     "text": [
      "NewsClassifierNN(\n",
      "  (fc1): Linear(in_features=25804, out_features=128, bias=True)\n",
      "  (relu): ReLU()\n",
      "  (fc2): Linear(in_features=128, out_features=5, bias=True)\n",
      "  (softmax): Softmax(dim=1)\n",
      ")\n"
     ]
    }
   ],
   "source": [
    "import torch\n",
    "from torch.nn import Module, Linear, ReLU, Softmax\n",
    "\n",
    "class NewsClassifierNN(Module):\n",
    "    def __init__(self, input_size, hidden_size, output_size):\n",
    "        super(NewsClassifierNN, self).__init__()\n",
    "        self.fc1 = Linear(input_size, hidden_size)\n",
    "        self.relu = ReLU()\n",
    "        self.fc2 = Linear(hidden_size, output_size)\n",
    "        self.softmax = Softmax(dim=1)\n",
    "\n",
    "    def forward(self, x):\n",
    "        out = self.fc1(x)\n",
    "        out = self.relu(out)\n",
    "        out = self.fc2(out)\n",
    "        out = self.softmax(out)\n",
    "        return out\n",
    "\n",
    "\n",
    "input_size = len(tf_idf_base_df.loc[0].item())\n",
    "hidden_size = 128\n",
    "output_size = len(df['labels'].unique())\n",
    "model = NewsClassifierNN(input_size, hidden_size, output_size)\n",
    "print(model)"
   ]
  },
  {
   "cell_type": "code",
   "execution_count": 31,
   "id": "9f392df4",
   "metadata": {},
   "outputs": [],
   "source": [
    "opt = torch.optim.Adam(model.parameters(), lr=0.001)\n",
    "criterion = torch.nn.CrossEntropyLoss()"
   ]
  },
  {
   "cell_type": "code",
   "execution_count": 32,
   "id": "84c5b6fc",
   "metadata": {},
   "outputs": [
    {
     "ename": "TypeError",
     "evalue": "'int' object is not callable",
     "output_type": "error",
     "traceback": [
      "\u001b[31m---------------------------------------------------------------------------\u001b[39m",
      "\u001b[31mTypeError\u001b[39m                                 Traceback (most recent call last)",
      "\u001b[36mCell\u001b[39m\u001b[36m \u001b[39m\u001b[32mIn[32]\u001b[39m\u001b[32m, line 3\u001b[39m\n\u001b[32m      1\u001b[39m \u001b[38;5;28;01mfrom\u001b[39;00m\u001b[38;5;250m \u001b[39m\u001b[34;01mtorch\u001b[39;00m\u001b[34;01m.\u001b[39;00m\u001b[34;01mutils\u001b[39;00m\u001b[34;01m.\u001b[39;00m\u001b[34;01mdata\u001b[39;00m\u001b[38;5;250m \u001b[39m\u001b[38;5;28;01mimport\u001b[39;00m TensorDataset, DataLoader\n\u001b[32m----> \u001b[39m\u001b[32m3\u001b[39m dataset = \u001b[43mTensorDataset\u001b[49m\u001b[43m(\u001b[49m\u001b[43mx_train\u001b[49m\u001b[43m,\u001b[49m\u001b[43m \u001b[49m\u001b[43my_train\u001b[49m\u001b[43m)\u001b[49m\n\u001b[32m      4\u001b[39m batch_size = \u001b[32m32\u001b[39m\n\u001b[32m      5\u001b[39m loader = DataLoader(dataset, batch_size, shuffle=\u001b[38;5;28;01mTrue\u001b[39;00m)\n",
      "\u001b[36mFile \u001b[39m\u001b[32m~\\AppData\\Local\\Packages\\PythonSoftwareFoundation.Python.3.13_qbz5n2kfra8p0\\LocalCache\\local-packages\\Python313\\site-packages\\torch\\utils\\data\\dataset.py:201\u001b[39m, in \u001b[36mTensorDataset.__init__\u001b[39m\u001b[34m(self, *tensors)\u001b[39m\n\u001b[32m    200\u001b[39m \u001b[38;5;28;01mdef\u001b[39;00m\u001b[38;5;250m \u001b[39m\u001b[34m__init__\u001b[39m(\u001b[38;5;28mself\u001b[39m, *tensors: Tensor) -> \u001b[38;5;28;01mNone\u001b[39;00m:\n\u001b[32m--> \u001b[39m\u001b[32m201\u001b[39m     \u001b[38;5;28;01massert\u001b[39;00m \u001b[38;5;28;43mall\u001b[39;49m\u001b[43m(\u001b[49m\n\u001b[32m    202\u001b[39m \u001b[43m        \u001b[49m\u001b[43mtensors\u001b[49m\u001b[43m[\u001b[49m\u001b[32;43m0\u001b[39;49m\u001b[43m]\u001b[49m\u001b[43m.\u001b[49m\u001b[43msize\u001b[49m\u001b[43m(\u001b[49m\u001b[32;43m0\u001b[39;49m\u001b[43m)\u001b[49m\u001b[43m \u001b[49m\u001b[43m==\u001b[49m\u001b[43m \u001b[49m\u001b[43mtensor\u001b[49m\u001b[43m.\u001b[49m\u001b[43msize\u001b[49m\u001b[43m(\u001b[49m\u001b[32;43m0\u001b[39;49m\u001b[43m)\u001b[49m\u001b[43m \u001b[49m\u001b[38;5;28;43;01mfor\u001b[39;49;00m\u001b[43m \u001b[49m\u001b[43mtensor\u001b[49m\u001b[43m \u001b[49m\u001b[38;5;129;43;01min\u001b[39;49;00m\u001b[43m \u001b[49m\u001b[43mtensors\u001b[49m\n\u001b[32m    203\u001b[39m \u001b[43m    \u001b[49m\u001b[43m)\u001b[49m, \u001b[33m\"\u001b[39m\u001b[33mSize mismatch between tensors\u001b[39m\u001b[33m\"\u001b[39m\n\u001b[32m    204\u001b[39m     \u001b[38;5;28mself\u001b[39m.tensors = tensors\n",
      "\u001b[36mFile \u001b[39m\u001b[32m~\\AppData\\Local\\Packages\\PythonSoftwareFoundation.Python.3.13_qbz5n2kfra8p0\\LocalCache\\local-packages\\Python313\\site-packages\\torch\\utils\\data\\dataset.py:202\u001b[39m, in \u001b[36m<genexpr>\u001b[39m\u001b[34m(.0)\u001b[39m\n\u001b[32m    200\u001b[39m \u001b[38;5;28;01mdef\u001b[39;00m\u001b[38;5;250m \u001b[39m\u001b[34m__init__\u001b[39m(\u001b[38;5;28mself\u001b[39m, *tensors: Tensor) -> \u001b[38;5;28;01mNone\u001b[39;00m:\n\u001b[32m    201\u001b[39m     \u001b[38;5;28;01massert\u001b[39;00m \u001b[38;5;28mall\u001b[39m(\n\u001b[32m--> \u001b[39m\u001b[32m202\u001b[39m         \u001b[43mtensors\u001b[49m\u001b[43m[\u001b[49m\u001b[32;43m0\u001b[39;49m\u001b[43m]\u001b[49m\u001b[43m.\u001b[49m\u001b[43msize\u001b[49m\u001b[43m(\u001b[49m\u001b[32;43m0\u001b[39;49m\u001b[43m)\u001b[49m == tensor.size(\u001b[32m0\u001b[39m) \u001b[38;5;28;01mfor\u001b[39;00m tensor \u001b[38;5;129;01min\u001b[39;00m tensors\n\u001b[32m    203\u001b[39m     ), \u001b[33m\"\u001b[39m\u001b[33mSize mismatch between tensors\u001b[39m\u001b[33m\"\u001b[39m\n\u001b[32m    204\u001b[39m     \u001b[38;5;28mself\u001b[39m.tensors = tensors\n",
      "\u001b[31mTypeError\u001b[39m: 'int' object is not callable"
     ]
    }
   ],
   "source": [
    "from torch.utils.data import TensorDataset, DataLoader\n",
    "\n",
    "dataset = TensorDataset(x_train, y_train)\n",
    "batch_size = 32\n",
    "loader = DataLoader(dataset, batch_size, shuffle=True)\n",
    "for epoch in range(10):\n",
    "    for inputs, labels in loader:\n",
    "        inputs = inputs.float()\n",
    "        labels = labels.long()\n",
    "\n",
    "        # Forward pass\n",
    "        outputs = model(inputs)\n",
    "        loss = criterion(outputs, labels)\n",
    "\n",
    "        # Backward pass and optimization\n",
    "        opt.zero_grad()\n",
    "        loss.backward()\n",
    "        opt.step()\n",
    "\n",
    "    print(f'Epoch [{epoch+1}/10], Loss: {loss.item():.4f}')"
   ]
  },
  {
   "cell_type": "code",
   "execution_count": null,
   "id": "65c14df8",
   "metadata": {},
   "outputs": [
    {
     "data": {
      "text/html": [
       "<style>#sk-container-id-1 {\n",
       "  /* Definition of color scheme common for light and dark mode */\n",
       "  --sklearn-color-text: #000;\n",
       "  --sklearn-color-text-muted: #666;\n",
       "  --sklearn-color-line: gray;\n",
       "  /* Definition of color scheme for unfitted estimators */\n",
       "  --sklearn-color-unfitted-level-0: #fff5e6;\n",
       "  --sklearn-color-unfitted-level-1: #f6e4d2;\n",
       "  --sklearn-color-unfitted-level-2: #ffe0b3;\n",
       "  --sklearn-color-unfitted-level-3: chocolate;\n",
       "  /* Definition of color scheme for fitted estimators */\n",
       "  --sklearn-color-fitted-level-0: #f0f8ff;\n",
       "  --sklearn-color-fitted-level-1: #d4ebff;\n",
       "  --sklearn-color-fitted-level-2: #b3dbfd;\n",
       "  --sklearn-color-fitted-level-3: cornflowerblue;\n",
       "\n",
       "  /* Specific color for light theme */\n",
       "  --sklearn-color-text-on-default-background: var(--sg-text-color, var(--theme-code-foreground, var(--jp-content-font-color1, black)));\n",
       "  --sklearn-color-background: var(--sg-background-color, var(--theme-background, var(--jp-layout-color0, white)));\n",
       "  --sklearn-color-border-box: var(--sg-text-color, var(--theme-code-foreground, var(--jp-content-font-color1, black)));\n",
       "  --sklearn-color-icon: #696969;\n",
       "\n",
       "  @media (prefers-color-scheme: dark) {\n",
       "    /* Redefinition of color scheme for dark theme */\n",
       "    --sklearn-color-text-on-default-background: var(--sg-text-color, var(--theme-code-foreground, var(--jp-content-font-color1, white)));\n",
       "    --sklearn-color-background: var(--sg-background-color, var(--theme-background, var(--jp-layout-color0, #111)));\n",
       "    --sklearn-color-border-box: var(--sg-text-color, var(--theme-code-foreground, var(--jp-content-font-color1, white)));\n",
       "    --sklearn-color-icon: #878787;\n",
       "  }\n",
       "}\n",
       "\n",
       "#sk-container-id-1 {\n",
       "  color: var(--sklearn-color-text);\n",
       "}\n",
       "\n",
       "#sk-container-id-1 pre {\n",
       "  padding: 0;\n",
       "}\n",
       "\n",
       "#sk-container-id-1 input.sk-hidden--visually {\n",
       "  border: 0;\n",
       "  clip: rect(1px 1px 1px 1px);\n",
       "  clip: rect(1px, 1px, 1px, 1px);\n",
       "  height: 1px;\n",
       "  margin: -1px;\n",
       "  overflow: hidden;\n",
       "  padding: 0;\n",
       "  position: absolute;\n",
       "  width: 1px;\n",
       "}\n",
       "\n",
       "#sk-container-id-1 div.sk-dashed-wrapped {\n",
       "  border: 1px dashed var(--sklearn-color-line);\n",
       "  margin: 0 0.4em 0.5em 0.4em;\n",
       "  box-sizing: border-box;\n",
       "  padding-bottom: 0.4em;\n",
       "  background-color: var(--sklearn-color-background);\n",
       "}\n",
       "\n",
       "#sk-container-id-1 div.sk-container {\n",
       "  /* jupyter's `normalize.less` sets `[hidden] { display: none; }`\n",
       "     but bootstrap.min.css set `[hidden] { display: none !important; }`\n",
       "     so we also need the `!important` here to be able to override the\n",
       "     default hidden behavior on the sphinx rendered scikit-learn.org.\n",
       "     See: https://github.com/scikit-learn/scikit-learn/issues/21755 */\n",
       "  display: inline-block !important;\n",
       "  position: relative;\n",
       "}\n",
       "\n",
       "#sk-container-id-1 div.sk-text-repr-fallback {\n",
       "  display: none;\n",
       "}\n",
       "\n",
       "div.sk-parallel-item,\n",
       "div.sk-serial,\n",
       "div.sk-item {\n",
       "  /* draw centered vertical line to link estimators */\n",
       "  background-image: linear-gradient(var(--sklearn-color-text-on-default-background), var(--sklearn-color-text-on-default-background));\n",
       "  background-size: 2px 100%;\n",
       "  background-repeat: no-repeat;\n",
       "  background-position: center center;\n",
       "}\n",
       "\n",
       "/* Parallel-specific style estimator block */\n",
       "\n",
       "#sk-container-id-1 div.sk-parallel-item::after {\n",
       "  content: \"\";\n",
       "  width: 100%;\n",
       "  border-bottom: 2px solid var(--sklearn-color-text-on-default-background);\n",
       "  flex-grow: 1;\n",
       "}\n",
       "\n",
       "#sk-container-id-1 div.sk-parallel {\n",
       "  display: flex;\n",
       "  align-items: stretch;\n",
       "  justify-content: center;\n",
       "  background-color: var(--sklearn-color-background);\n",
       "  position: relative;\n",
       "}\n",
       "\n",
       "#sk-container-id-1 div.sk-parallel-item {\n",
       "  display: flex;\n",
       "  flex-direction: column;\n",
       "}\n",
       "\n",
       "#sk-container-id-1 div.sk-parallel-item:first-child::after {\n",
       "  align-self: flex-end;\n",
       "  width: 50%;\n",
       "}\n",
       "\n",
       "#sk-container-id-1 div.sk-parallel-item:last-child::after {\n",
       "  align-self: flex-start;\n",
       "  width: 50%;\n",
       "}\n",
       "\n",
       "#sk-container-id-1 div.sk-parallel-item:only-child::after {\n",
       "  width: 0;\n",
       "}\n",
       "\n",
       "/* Serial-specific style estimator block */\n",
       "\n",
       "#sk-container-id-1 div.sk-serial {\n",
       "  display: flex;\n",
       "  flex-direction: column;\n",
       "  align-items: center;\n",
       "  background-color: var(--sklearn-color-background);\n",
       "  padding-right: 1em;\n",
       "  padding-left: 1em;\n",
       "}\n",
       "\n",
       "\n",
       "/* Toggleable style: style used for estimator/Pipeline/ColumnTransformer box that is\n",
       "clickable and can be expanded/collapsed.\n",
       "- Pipeline and ColumnTransformer use this feature and define the default style\n",
       "- Estimators will overwrite some part of the style using the `sk-estimator` class\n",
       "*/\n",
       "\n",
       "/* Pipeline and ColumnTransformer style (default) */\n",
       "\n",
       "#sk-container-id-1 div.sk-toggleable {\n",
       "  /* Default theme specific background. It is overwritten whether we have a\n",
       "  specific estimator or a Pipeline/ColumnTransformer */\n",
       "  background-color: var(--sklearn-color-background);\n",
       "}\n",
       "\n",
       "/* Toggleable label */\n",
       "#sk-container-id-1 label.sk-toggleable__label {\n",
       "  cursor: pointer;\n",
       "  display: flex;\n",
       "  width: 100%;\n",
       "  margin-bottom: 0;\n",
       "  padding: 0.5em;\n",
       "  box-sizing: border-box;\n",
       "  text-align: center;\n",
       "  align-items: start;\n",
       "  justify-content: space-between;\n",
       "  gap: 0.5em;\n",
       "}\n",
       "\n",
       "#sk-container-id-1 label.sk-toggleable__label .caption {\n",
       "  font-size: 0.6rem;\n",
       "  font-weight: lighter;\n",
       "  color: var(--sklearn-color-text-muted);\n",
       "}\n",
       "\n",
       "#sk-container-id-1 label.sk-toggleable__label-arrow:before {\n",
       "  /* Arrow on the left of the label */\n",
       "  content: \"▸\";\n",
       "  float: left;\n",
       "  margin-right: 0.25em;\n",
       "  color: var(--sklearn-color-icon);\n",
       "}\n",
       "\n",
       "#sk-container-id-1 label.sk-toggleable__label-arrow:hover:before {\n",
       "  color: var(--sklearn-color-text);\n",
       "}\n",
       "\n",
       "/* Toggleable content - dropdown */\n",
       "\n",
       "#sk-container-id-1 div.sk-toggleable__content {\n",
       "  display: none;\n",
       "  text-align: left;\n",
       "  /* unfitted */\n",
       "  background-color: var(--sklearn-color-unfitted-level-0);\n",
       "}\n",
       "\n",
       "#sk-container-id-1 div.sk-toggleable__content.fitted {\n",
       "  /* fitted */\n",
       "  background-color: var(--sklearn-color-fitted-level-0);\n",
       "}\n",
       "\n",
       "#sk-container-id-1 div.sk-toggleable__content pre {\n",
       "  margin: 0.2em;\n",
       "  border-radius: 0.25em;\n",
       "  color: var(--sklearn-color-text);\n",
       "  /* unfitted */\n",
       "  background-color: var(--sklearn-color-unfitted-level-0);\n",
       "}\n",
       "\n",
       "#sk-container-id-1 div.sk-toggleable__content.fitted pre {\n",
       "  /* unfitted */\n",
       "  background-color: var(--sklearn-color-fitted-level-0);\n",
       "}\n",
       "\n",
       "#sk-container-id-1 input.sk-toggleable__control:checked~div.sk-toggleable__content {\n",
       "  /* Expand drop-down */\n",
       "  display: block;\n",
       "  width: 100%;\n",
       "  overflow: visible;\n",
       "}\n",
       "\n",
       "#sk-container-id-1 input.sk-toggleable__control:checked~label.sk-toggleable__label-arrow:before {\n",
       "  content: \"▾\";\n",
       "}\n",
       "\n",
       "/* Pipeline/ColumnTransformer-specific style */\n",
       "\n",
       "#sk-container-id-1 div.sk-label input.sk-toggleable__control:checked~label.sk-toggleable__label {\n",
       "  color: var(--sklearn-color-text);\n",
       "  background-color: var(--sklearn-color-unfitted-level-2);\n",
       "}\n",
       "\n",
       "#sk-container-id-1 div.sk-label.fitted input.sk-toggleable__control:checked~label.sk-toggleable__label {\n",
       "  background-color: var(--sklearn-color-fitted-level-2);\n",
       "}\n",
       "\n",
       "/* Estimator-specific style */\n",
       "\n",
       "/* Colorize estimator box */\n",
       "#sk-container-id-1 div.sk-estimator input.sk-toggleable__control:checked~label.sk-toggleable__label {\n",
       "  /* unfitted */\n",
       "  background-color: var(--sklearn-color-unfitted-level-2);\n",
       "}\n",
       "\n",
       "#sk-container-id-1 div.sk-estimator.fitted input.sk-toggleable__control:checked~label.sk-toggleable__label {\n",
       "  /* fitted */\n",
       "  background-color: var(--sklearn-color-fitted-level-2);\n",
       "}\n",
       "\n",
       "#sk-container-id-1 div.sk-label label.sk-toggleable__label,\n",
       "#sk-container-id-1 div.sk-label label {\n",
       "  /* The background is the default theme color */\n",
       "  color: var(--sklearn-color-text-on-default-background);\n",
       "}\n",
       "\n",
       "/* On hover, darken the color of the background */\n",
       "#sk-container-id-1 div.sk-label:hover label.sk-toggleable__label {\n",
       "  color: var(--sklearn-color-text);\n",
       "  background-color: var(--sklearn-color-unfitted-level-2);\n",
       "}\n",
       "\n",
       "/* Label box, darken color on hover, fitted */\n",
       "#sk-container-id-1 div.sk-label.fitted:hover label.sk-toggleable__label.fitted {\n",
       "  color: var(--sklearn-color-text);\n",
       "  background-color: var(--sklearn-color-fitted-level-2);\n",
       "}\n",
       "\n",
       "/* Estimator label */\n",
       "\n",
       "#sk-container-id-1 div.sk-label label {\n",
       "  font-family: monospace;\n",
       "  font-weight: bold;\n",
       "  display: inline-block;\n",
       "  line-height: 1.2em;\n",
       "}\n",
       "\n",
       "#sk-container-id-1 div.sk-label-container {\n",
       "  text-align: center;\n",
       "}\n",
       "\n",
       "/* Estimator-specific */\n",
       "#sk-container-id-1 div.sk-estimator {\n",
       "  font-family: monospace;\n",
       "  border: 1px dotted var(--sklearn-color-border-box);\n",
       "  border-radius: 0.25em;\n",
       "  box-sizing: border-box;\n",
       "  margin-bottom: 0.5em;\n",
       "  /* unfitted */\n",
       "  background-color: var(--sklearn-color-unfitted-level-0);\n",
       "}\n",
       "\n",
       "#sk-container-id-1 div.sk-estimator.fitted {\n",
       "  /* fitted */\n",
       "  background-color: var(--sklearn-color-fitted-level-0);\n",
       "}\n",
       "\n",
       "/* on hover */\n",
       "#sk-container-id-1 div.sk-estimator:hover {\n",
       "  /* unfitted */\n",
       "  background-color: var(--sklearn-color-unfitted-level-2);\n",
       "}\n",
       "\n",
       "#sk-container-id-1 div.sk-estimator.fitted:hover {\n",
       "  /* fitted */\n",
       "  background-color: var(--sklearn-color-fitted-level-2);\n",
       "}\n",
       "\n",
       "/* Specification for estimator info (e.g. \"i\" and \"?\") */\n",
       "\n",
       "/* Common style for \"i\" and \"?\" */\n",
       "\n",
       ".sk-estimator-doc-link,\n",
       "a:link.sk-estimator-doc-link,\n",
       "a:visited.sk-estimator-doc-link {\n",
       "  float: right;\n",
       "  font-size: smaller;\n",
       "  line-height: 1em;\n",
       "  font-family: monospace;\n",
       "  background-color: var(--sklearn-color-background);\n",
       "  border-radius: 1em;\n",
       "  height: 1em;\n",
       "  width: 1em;\n",
       "  text-decoration: none !important;\n",
       "  margin-left: 0.5em;\n",
       "  text-align: center;\n",
       "  /* unfitted */\n",
       "  border: var(--sklearn-color-unfitted-level-1) 1pt solid;\n",
       "  color: var(--sklearn-color-unfitted-level-1);\n",
       "}\n",
       "\n",
       ".sk-estimator-doc-link.fitted,\n",
       "a:link.sk-estimator-doc-link.fitted,\n",
       "a:visited.sk-estimator-doc-link.fitted {\n",
       "  /* fitted */\n",
       "  border: var(--sklearn-color-fitted-level-1) 1pt solid;\n",
       "  color: var(--sklearn-color-fitted-level-1);\n",
       "}\n",
       "\n",
       "/* On hover */\n",
       "div.sk-estimator:hover .sk-estimator-doc-link:hover,\n",
       ".sk-estimator-doc-link:hover,\n",
       "div.sk-label-container:hover .sk-estimator-doc-link:hover,\n",
       ".sk-estimator-doc-link:hover {\n",
       "  /* unfitted */\n",
       "  background-color: var(--sklearn-color-unfitted-level-3);\n",
       "  color: var(--sklearn-color-background);\n",
       "  text-decoration: none;\n",
       "}\n",
       "\n",
       "div.sk-estimator.fitted:hover .sk-estimator-doc-link.fitted:hover,\n",
       ".sk-estimator-doc-link.fitted:hover,\n",
       "div.sk-label-container:hover .sk-estimator-doc-link.fitted:hover,\n",
       ".sk-estimator-doc-link.fitted:hover {\n",
       "  /* fitted */\n",
       "  background-color: var(--sklearn-color-fitted-level-3);\n",
       "  color: var(--sklearn-color-background);\n",
       "  text-decoration: none;\n",
       "}\n",
       "\n",
       "/* Span, style for the box shown on hovering the info icon */\n",
       ".sk-estimator-doc-link span {\n",
       "  display: none;\n",
       "  z-index: 9999;\n",
       "  position: relative;\n",
       "  font-weight: normal;\n",
       "  right: .2ex;\n",
       "  padding: .5ex;\n",
       "  margin: .5ex;\n",
       "  width: min-content;\n",
       "  min-width: 20ex;\n",
       "  max-width: 50ex;\n",
       "  color: var(--sklearn-color-text);\n",
       "  box-shadow: 2pt 2pt 4pt #999;\n",
       "  /* unfitted */\n",
       "  background: var(--sklearn-color-unfitted-level-0);\n",
       "  border: .5pt solid var(--sklearn-color-unfitted-level-3);\n",
       "}\n",
       "\n",
       ".sk-estimator-doc-link.fitted span {\n",
       "  /* fitted */\n",
       "  background: var(--sklearn-color-fitted-level-0);\n",
       "  border: var(--sklearn-color-fitted-level-3);\n",
       "}\n",
       "\n",
       ".sk-estimator-doc-link:hover span {\n",
       "  display: block;\n",
       "}\n",
       "\n",
       "/* \"?\"-specific style due to the `<a>` HTML tag */\n",
       "\n",
       "#sk-container-id-1 a.estimator_doc_link {\n",
       "  float: right;\n",
       "  font-size: 1rem;\n",
       "  line-height: 1em;\n",
       "  font-family: monospace;\n",
       "  background-color: var(--sklearn-color-background);\n",
       "  border-radius: 1rem;\n",
       "  height: 1rem;\n",
       "  width: 1rem;\n",
       "  text-decoration: none;\n",
       "  /* unfitted */\n",
       "  color: var(--sklearn-color-unfitted-level-1);\n",
       "  border: var(--sklearn-color-unfitted-level-1) 1pt solid;\n",
       "}\n",
       "\n",
       "#sk-container-id-1 a.estimator_doc_link.fitted {\n",
       "  /* fitted */\n",
       "  border: var(--sklearn-color-fitted-level-1) 1pt solid;\n",
       "  color: var(--sklearn-color-fitted-level-1);\n",
       "}\n",
       "\n",
       "/* On hover */\n",
       "#sk-container-id-1 a.estimator_doc_link:hover {\n",
       "  /* unfitted */\n",
       "  background-color: var(--sklearn-color-unfitted-level-3);\n",
       "  color: var(--sklearn-color-background);\n",
       "  text-decoration: none;\n",
       "}\n",
       "\n",
       "#sk-container-id-1 a.estimator_doc_link.fitted:hover {\n",
       "  /* fitted */\n",
       "  background-color: var(--sklearn-color-fitted-level-3);\n",
       "}\n",
       "\n",
       ".estimator-table summary {\n",
       "    padding: .5rem;\n",
       "    font-family: monospace;\n",
       "    cursor: pointer;\n",
       "}\n",
       "\n",
       ".estimator-table details[open] {\n",
       "    padding-left: 0.1rem;\n",
       "    padding-right: 0.1rem;\n",
       "    padding-bottom: 0.3rem;\n",
       "}\n",
       "\n",
       ".estimator-table .parameters-table {\n",
       "    margin-left: auto !important;\n",
       "    margin-right: auto !important;\n",
       "}\n",
       "\n",
       ".estimator-table .parameters-table tr:nth-child(odd) {\n",
       "    background-color: #fff;\n",
       "}\n",
       "\n",
       ".estimator-table .parameters-table tr:nth-child(even) {\n",
       "    background-color: #f6f6f6;\n",
       "}\n",
       "\n",
       ".estimator-table .parameters-table tr:hover {\n",
       "    background-color: #e0e0e0;\n",
       "}\n",
       "\n",
       ".estimator-table table td {\n",
       "    border: 1px solid rgba(106, 105, 104, 0.232);\n",
       "}\n",
       "\n",
       ".user-set td {\n",
       "    color:rgb(255, 94, 0);\n",
       "    text-align: left;\n",
       "}\n",
       "\n",
       ".user-set td.value pre {\n",
       "    color:rgb(255, 94, 0) !important;\n",
       "    background-color: transparent !important;\n",
       "}\n",
       "\n",
       ".default td {\n",
       "    color: black;\n",
       "    text-align: left;\n",
       "}\n",
       "\n",
       ".user-set td i,\n",
       ".default td i {\n",
       "    color: black;\n",
       "}\n",
       "\n",
       ".copy-paste-icon {\n",
       "    background-image: url(data:image/svg+xml;base64,PHN2ZyB4bWxucz0iaHR0cDovL3d3dy53My5vcmcvMjAwMC9zdmciIHZpZXdCb3g9IjAgMCA0NDggNTEyIj48IS0tIUZvbnQgQXdlc29tZSBGcmVlIDYuNy4yIGJ5IEBmb250YXdlc29tZSAtIGh0dHBzOi8vZm9udGF3ZXNvbWUuY29tIExpY2Vuc2UgLSBodHRwczovL2ZvbnRhd2Vzb21lLmNvbS9saWNlbnNlL2ZyZWUgQ29weXJpZ2h0IDIwMjUgRm9udGljb25zLCBJbmMuLS0+PHBhdGggZD0iTTIwOCAwTDMzMi4xIDBjMTIuNyAwIDI0LjkgNS4xIDMzLjkgMTQuMWw2Ny45IDY3LjljOSA5IDE0LjEgMjEuMiAxNC4xIDMzLjlMNDQ4IDMzNmMwIDI2LjUtMjEuNSA0OC00OCA0OGwtMTkyIDBjLTI2LjUgMC00OC0yMS41LTQ4LTQ4bDAtMjg4YzAtMjYuNSAyMS41LTQ4IDQ4LTQ4ek00OCAxMjhsODAgMCAwIDY0LTY0IDAgMCAyNTYgMTkyIDAgMC0zMiA2NCAwIDAgNDhjMCAyNi41LTIxLjUgNDgtNDggNDhMNDggNTEyYy0yNi41IDAtNDgtMjEuNS00OC00OEwwIDE3NmMwLTI2LjUgMjEuNS00OCA0OC00OHoiLz48L3N2Zz4=);\n",
       "    background-repeat: no-repeat;\n",
       "    background-size: 14px 14px;\n",
       "    background-position: 0;\n",
       "    display: inline-block;\n",
       "    width: 14px;\n",
       "    height: 14px;\n",
       "    cursor: pointer;\n",
       "}\n",
       "</style><body><div id=\"sk-container-id-1\" class=\"sk-top-container\"><div class=\"sk-text-repr-fallback\"><pre>SVC(gamma=0.5)</pre><b>In a Jupyter environment, please rerun this cell to show the HTML representation or trust the notebook. <br />On GitHub, the HTML representation is unable to render, please try loading this page with nbviewer.org.</b></div><div class=\"sk-container\" hidden><div class=\"sk-item\"><div class=\"sk-estimator fitted sk-toggleable\"><input class=\"sk-toggleable__control sk-hidden--visually\" id=\"sk-estimator-id-1\" type=\"checkbox\" checked><label for=\"sk-estimator-id-1\" class=\"sk-toggleable__label fitted sk-toggleable__label-arrow\"><div><div>SVC</div></div><div><a class=\"sk-estimator-doc-link fitted\" rel=\"noreferrer\" target=\"_blank\" href=\"https://scikit-learn.org/1.7/modules/generated/sklearn.svm.SVC.html\">?<span>Documentation for SVC</span></a><span class=\"sk-estimator-doc-link fitted\">i<span>Fitted</span></span></div></label><div class=\"sk-toggleable__content fitted\" data-param-prefix=\"\">\n",
       "        <div class=\"estimator-table\">\n",
       "            <details>\n",
       "                <summary>Parameters</summary>\n",
       "                <table class=\"parameters-table\">\n",
       "                  <tbody>\n",
       "                    \n",
       "        <tr class=\"default\">\n",
       "            <td><i class=\"copy-paste-icon\"\n",
       "                 onclick=\"copyToClipboard('C',\n",
       "                          this.parentElement.nextElementSibling)\"\n",
       "            ></i></td>\n",
       "            <td class=\"param\">C&nbsp;</td>\n",
       "            <td class=\"value\">1.0</td>\n",
       "        </tr>\n",
       "    \n",
       "\n",
       "        <tr class=\"default\">\n",
       "            <td><i class=\"copy-paste-icon\"\n",
       "                 onclick=\"copyToClipboard('kernel',\n",
       "                          this.parentElement.nextElementSibling)\"\n",
       "            ></i></td>\n",
       "            <td class=\"param\">kernel&nbsp;</td>\n",
       "            <td class=\"value\">&#x27;rbf&#x27;</td>\n",
       "        </tr>\n",
       "    \n",
       "\n",
       "        <tr class=\"default\">\n",
       "            <td><i class=\"copy-paste-icon\"\n",
       "                 onclick=\"copyToClipboard('degree',\n",
       "                          this.parentElement.nextElementSibling)\"\n",
       "            ></i></td>\n",
       "            <td class=\"param\">degree&nbsp;</td>\n",
       "            <td class=\"value\">3</td>\n",
       "        </tr>\n",
       "    \n",
       "\n",
       "        <tr class=\"user-set\">\n",
       "            <td><i class=\"copy-paste-icon\"\n",
       "                 onclick=\"copyToClipboard('gamma',\n",
       "                          this.parentElement.nextElementSibling)\"\n",
       "            ></i></td>\n",
       "            <td class=\"param\">gamma&nbsp;</td>\n",
       "            <td class=\"value\">0.5</td>\n",
       "        </tr>\n",
       "    \n",
       "\n",
       "        <tr class=\"default\">\n",
       "            <td><i class=\"copy-paste-icon\"\n",
       "                 onclick=\"copyToClipboard('coef0',\n",
       "                          this.parentElement.nextElementSibling)\"\n",
       "            ></i></td>\n",
       "            <td class=\"param\">coef0&nbsp;</td>\n",
       "            <td class=\"value\">0.0</td>\n",
       "        </tr>\n",
       "    \n",
       "\n",
       "        <tr class=\"default\">\n",
       "            <td><i class=\"copy-paste-icon\"\n",
       "                 onclick=\"copyToClipboard('shrinking',\n",
       "                          this.parentElement.nextElementSibling)\"\n",
       "            ></i></td>\n",
       "            <td class=\"param\">shrinking&nbsp;</td>\n",
       "            <td class=\"value\">True</td>\n",
       "        </tr>\n",
       "    \n",
       "\n",
       "        <tr class=\"default\">\n",
       "            <td><i class=\"copy-paste-icon\"\n",
       "                 onclick=\"copyToClipboard('probability',\n",
       "                          this.parentElement.nextElementSibling)\"\n",
       "            ></i></td>\n",
       "            <td class=\"param\">probability&nbsp;</td>\n",
       "            <td class=\"value\">False</td>\n",
       "        </tr>\n",
       "    \n",
       "\n",
       "        <tr class=\"default\">\n",
       "            <td><i class=\"copy-paste-icon\"\n",
       "                 onclick=\"copyToClipboard('tol',\n",
       "                          this.parentElement.nextElementSibling)\"\n",
       "            ></i></td>\n",
       "            <td class=\"param\">tol&nbsp;</td>\n",
       "            <td class=\"value\">0.001</td>\n",
       "        </tr>\n",
       "    \n",
       "\n",
       "        <tr class=\"default\">\n",
       "            <td><i class=\"copy-paste-icon\"\n",
       "                 onclick=\"copyToClipboard('cache_size',\n",
       "                          this.parentElement.nextElementSibling)\"\n",
       "            ></i></td>\n",
       "            <td class=\"param\">cache_size&nbsp;</td>\n",
       "            <td class=\"value\">200</td>\n",
       "        </tr>\n",
       "    \n",
       "\n",
       "        <tr class=\"default\">\n",
       "            <td><i class=\"copy-paste-icon\"\n",
       "                 onclick=\"copyToClipboard('class_weight',\n",
       "                          this.parentElement.nextElementSibling)\"\n",
       "            ></i></td>\n",
       "            <td class=\"param\">class_weight&nbsp;</td>\n",
       "            <td class=\"value\">None</td>\n",
       "        </tr>\n",
       "    \n",
       "\n",
       "        <tr class=\"default\">\n",
       "            <td><i class=\"copy-paste-icon\"\n",
       "                 onclick=\"copyToClipboard('verbose',\n",
       "                          this.parentElement.nextElementSibling)\"\n",
       "            ></i></td>\n",
       "            <td class=\"param\">verbose&nbsp;</td>\n",
       "            <td class=\"value\">False</td>\n",
       "        </tr>\n",
       "    \n",
       "\n",
       "        <tr class=\"default\">\n",
       "            <td><i class=\"copy-paste-icon\"\n",
       "                 onclick=\"copyToClipboard('max_iter',\n",
       "                          this.parentElement.nextElementSibling)\"\n",
       "            ></i></td>\n",
       "            <td class=\"param\">max_iter&nbsp;</td>\n",
       "            <td class=\"value\">-1</td>\n",
       "        </tr>\n",
       "    \n",
       "\n",
       "        <tr class=\"default\">\n",
       "            <td><i class=\"copy-paste-icon\"\n",
       "                 onclick=\"copyToClipboard('decision_function_shape',\n",
       "                          this.parentElement.nextElementSibling)\"\n",
       "            ></i></td>\n",
       "            <td class=\"param\">decision_function_shape&nbsp;</td>\n",
       "            <td class=\"value\">&#x27;ovr&#x27;</td>\n",
       "        </tr>\n",
       "    \n",
       "\n",
       "        <tr class=\"default\">\n",
       "            <td><i class=\"copy-paste-icon\"\n",
       "                 onclick=\"copyToClipboard('break_ties',\n",
       "                          this.parentElement.nextElementSibling)\"\n",
       "            ></i></td>\n",
       "            <td class=\"param\">break_ties&nbsp;</td>\n",
       "            <td class=\"value\">False</td>\n",
       "        </tr>\n",
       "    \n",
       "\n",
       "        <tr class=\"default\">\n",
       "            <td><i class=\"copy-paste-icon\"\n",
       "                 onclick=\"copyToClipboard('random_state',\n",
       "                          this.parentElement.nextElementSibling)\"\n",
       "            ></i></td>\n",
       "            <td class=\"param\">random_state&nbsp;</td>\n",
       "            <td class=\"value\">None</td>\n",
       "        </tr>\n",
       "    \n",
       "                  </tbody>\n",
       "                </table>\n",
       "            </details>\n",
       "        </div>\n",
       "    </div></div></div></div></div><script>function copyToClipboard(text, element) {\n",
       "    // Get the parameter prefix from the closest toggleable content\n",
       "    const toggleableContent = element.closest('.sk-toggleable__content');\n",
       "    const paramPrefix = toggleableContent ? toggleableContent.dataset.paramPrefix : '';\n",
       "    const fullParamName = paramPrefix ? `${paramPrefix}${text}` : text;\n",
       "\n",
       "    const originalStyle = element.style;\n",
       "    const computedStyle = window.getComputedStyle(element);\n",
       "    const originalWidth = computedStyle.width;\n",
       "    const originalHTML = element.innerHTML.replace('Copied!', '');\n",
       "\n",
       "    navigator.clipboard.writeText(fullParamName)\n",
       "        .then(() => {\n",
       "            element.style.width = originalWidth;\n",
       "            element.style.color = 'green';\n",
       "            element.innerHTML = \"Copied!\";\n",
       "\n",
       "            setTimeout(() => {\n",
       "                element.innerHTML = originalHTML;\n",
       "                element.style = originalStyle;\n",
       "            }, 2000);\n",
       "        })\n",
       "        .catch(err => {\n",
       "            console.error('Failed to copy:', err);\n",
       "            element.style.color = 'red';\n",
       "            element.innerHTML = \"Failed!\";\n",
       "            setTimeout(() => {\n",
       "                element.innerHTML = originalHTML;\n",
       "                element.style = originalStyle;\n",
       "            }, 2000);\n",
       "        });\n",
       "    return false;\n",
       "}\n",
       "\n",
       "document.querySelectorAll('.fa-regular.fa-copy').forEach(function(element) {\n",
       "    const toggleableContent = element.closest('.sk-toggleable__content');\n",
       "    const paramPrefix = toggleableContent ? toggleableContent.dataset.paramPrefix : '';\n",
       "    const paramName = element.parentElement.nextElementSibling.textContent.trim();\n",
       "    const fullParamName = paramPrefix ? `${paramPrefix}${paramName}` : paramName;\n",
       "\n",
       "    element.setAttribute('title', fullParamName);\n",
       "});\n",
       "</script></body>"
      ],
      "text/plain": [
       "SVC(gamma=0.5)"
      ]
     },
     "execution_count": 99,
     "metadata": {},
     "output_type": "execute_result"
    }
   ],
   "source": [
    "from sklearn.svm import SVC\n",
    "\n",
    "# Build the model\n",
    "svm = SVC(kernel=\"rbf\", gamma=0.5, C=1.0)\n",
    "svm.fit(X, y)"
   ]
  },
  {
   "cell_type": "code",
   "execution_count": null,
   "id": "d3f61d8b",
   "metadata": {},
   "outputs": [
    {
     "data": {
      "text/plain": [
       "['svm_base.pkl']"
      ]
     },
     "execution_count": 103,
     "metadata": {},
     "output_type": "execute_result"
    }
   ],
   "source": [
    "import joblib\n",
    "\n",
    "joblib.dump(svm, 'svm_base.pkl')"
   ]
  },
  {
   "cell_type": "code",
   "execution_count": null,
   "id": "a1cba901",
   "metadata": {},
   "outputs": [
    {
     "data": {
      "text/plain": [
       "2123    [Apple, Mac, mini, gets, warm, welcome, Mac, m...\n",
       "612     [Downloads, enter, US, singles, chart, Digital...\n",
       "1701    [Dallaglio, eyeing, Lions, tour, place, Former...\n",
       "796     [REM, announce, new, Glasgow, concert, US, ban...\n",
       "1134    [Row, power, CSOs, Police, Federation, said, s...\n",
       "                              ...                        \n",
       "1128    [ready, information, act, Thousands, public, b...\n",
       "1897    [China, overtake, US, net, use, Chinese, popul...\n",
       "1170    [Howard, dismisses, Tory, tax, fears, Michael,...\n",
       "272     [Markets, fall, weak, dollar, fears, Rising, o...\n",
       "787     [Download, chart, debut, delayed, inclusion, d...\n",
       "Name: cleaned_text, Length: 426, dtype: object"
      ]
     },
     "execution_count": 109,
     "metadata": {},
     "output_type": "execute_result"
    }
   ],
   "source": [
    "# Apply stop word removal and alnum check to test set\n",
    "def make_concise_test(text):\n",
    "    tokenised = nltk.word_tokenize(text)\n",
    "    concise_text = [token for token in tokenised if token.isalnum() and token.lower() not in stop_words]\n",
    "    return concise_text\n",
    "\n",
    "test_df['cleaned_text'] = test_df['text'].apply(lambda x: make_concise_test(x))\n",
    "test_df['cleaned_text']"
   ]
  },
  {
   "cell_type": "code",
   "execution_count": null,
   "id": "cd233fca",
   "metadata": {},
   "outputs": [],
   "source": [
    "\n",
    "svm.predict(X[0].reshape(1, -1))"
   ]
  }
 ],
 "metadata": {
  "kernelspec": {
   "display_name": "Python 3",
   "language": "python",
   "name": "python3"
  },
  "language_info": {
   "codemirror_mode": {
    "name": "ipython",
    "version": 3
   },
   "file_extension": ".py",
   "mimetype": "text/x-python",
   "name": "python",
   "nbconvert_exporter": "python",
   "pygments_lexer": "ipython3",
   "version": "3.13.9"
  }
 },
 "nbformat": 4,
 "nbformat_minor": 5
}
